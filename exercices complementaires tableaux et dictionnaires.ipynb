{
 "cells": [
  {
   "cell_type": "markdown",
   "metadata": {},
   "source": [
    "# Exercices complémentaires\n",
    "## Tableaux\n",
    "\n",
    "Ecrire des fonctions pour :\n",
    "\n",
    "Chercher le nombre d'occurences uniques dans une liste  \n",
    "Chercher  si deux mots sont des anagrammes l'un de l'autre  \n",
    "chercher l'occurrence d'une liste qui apparait le plus souvent  "
   ]
  },
  {
   "cell_type": "markdown",
   "metadata": {},
   "source": [
    "> Chercher le nombre d'occurences uniques dans une liste \n",
    "\n",
    "Pistes :  \n",
    "La liste est d'abord triée.  \n",
    "On vérifie si chaque élément est différent de son prédécesseur et de son successeur.  \n",
    "Si un élément est différent à la fois de son prédécesseur et de son successeur, cela signifie qu'il n'apparaît qu'une seule fois dans la liste, et on incrémente alors le compteur nb_uniques.  \n",
    "Des vérifications supplémentaires sont effectuées pour le premier et le dernier élément, car ils n'ont qu'un seul voisin dans la liste triée."
   ]
  },
  {
   "cell_type": "code",
   "execution_count": 3,
   "metadata": {},
   "outputs": [
    {
     "name": "stdout",
     "output_type": "stream",
     "text": [
      "[1, 2, 3, 3, 4, 5]\n",
      "occur uniques 4\n"
     ]
    }
   ],
   "source": [
    "tableau = [3,2,3,4,5,1]\n",
    "tableau.sort()\n",
    "print(tableau)\n",
    "\n",
    "def nb_occurences_uniques(tableau):\n",
    "    nb_uniques = 0\n",
    "    if tableau[0] != tableau[1]:\n",
    "        nb_uniques += 1\n",
    "    if tableau[-1] != tableau[-2]:\n",
    "        nb_uniques += 1\n",
    "\n",
    "    for pos in range(1, len(tableau)-1):\n",
    "        if tableau[pos-1] != tableau[pos] and tableau[pos+1] != tableau[pos]:\n",
    "            nb_uniques += 1\n",
    "    return nb_uniques\n",
    "\n",
    "print(\"occur uniques\", nb_occurences_uniques(tableau))"
   ]
  },
  {
   "cell_type": "markdown",
   "metadata": {},
   "source": [
    "> Chercher  si deux mots sont des anagrammes l'un de l'autre\n",
    "\n",
    "convertir chaque mot en une liste de ses lettres, trier ces listes, puis comparer les listes triées. Si les listes triées sont identiques, alors les mots sont des anagrammes. "
   ]
  },
  {
   "cell_type": "code",
   "execution_count": null,
   "metadata": {},
   "outputs": [],
   "source": []
  },
  {
   "cell_type": "markdown",
   "metadata": {},
   "source": [
    "# Exercices sur les Dictionnaires en Python\n",
    "## Syntaxes de Base des Dictionnaires en Python\n",
    "\n",
    "Les dictionnaires en Python sont des structures de données qui stockent des paires clé-valeur. Voici les opérations de base nécessaires pour travailler avec les dictionnaires :\n",
    "\n",
    "### Création d'un Dictionnaire\n",
    "- **Vide** : `mon_dictionnaire = {}`\n",
    "- **Avec des valeurs initiales** : `mon_dictionnaire = {'cle1': valeur1, 'cle2': valeur2}`\n",
    "\n",
    "### Accès aux Éléments\n",
    "- **Lire une valeur** : `valeur = mon_dictionnaire['cle']`\n",
    "- **Lire avec `get` (évite les erreurs si la clé n'existe pas)** : `valeur = mon_dictionnaire.get('cle', valeur_par_defaut)`\n",
    "\n",
    "### Modification et Ajout d'Éléments\n",
    "- **Ajouter ou Modifier** : `mon_dictionnaire['nouvelle_cle'] = nouvelle_valeur`\n",
    "- **Mettre à jour avec un autre dictionnaire** : `mon_dictionnaire.update(autre_dictionnaire)`\n",
    "\n",
    "### Suppression d'Éléments\n",
    "- **Supprimer une clé** : `del mon_dictionnaire['cle']`\n",
    "- **Supprimer avec `pop` (retourne la valeur supprimée)** : `valeur = mon_dictionnaire.pop('cle')`\n",
    "\n",
    "### Parcours d'un Dictionnaire\n",
    "- **Clés** : `for cle in mon_dictionnaire.keys():`\n",
    "- **Valeurs** : `for valeur in mon_dictionnaire.values():`\n",
    "- **Paires clé-valeur** : `for cle, valeur in mon_dictionnaire.items():`\n",
    "\n",
    "### Test d'Existence\n",
    "- **Vérifier si une clé existe** : `if 'cle' in mon_dictionnaire:`\n",
    "\n",
    "### Taille d'un Dictionnaire\n",
    "- **Nombre d'éléments** : `taille = len(mon_dictionnaire)`\n",
    "\n",
    "### Dictionnaires Imbriqués\n",
    "- **Accès à un élément imbriqué** : `valeur = mon_dictionnaire['cle_externe']['cle_interne']`\n"
   ]
  },
  {
   "cell_type": "markdown",
   "metadata": {},
   "source": [
    "## Exercice 1: Comptage des Lettres d'un Mot\n",
    "- **Objectif**: Écrire une fonction qui prend un mot en entrée et renvoie un dictionnaire où chaque clé est une lettre du mot et chaque valeur est le nombre d'occurrences de cette lettre.\n",
    "- **Exemple**:\n",
    "  - Entrée: `\"python\"`\n",
    "  - Sortie: `{'p': 1, 'y': 1, 't': 1, 'h': 1, 'o': 1, 'n': 1}`\n",
    "\n",
    "## Exercice 2: Création d'un Répertoire Téléphonique\n",
    "- **Objectif**: Créer un dictionnaire qui agit comme un répertoire téléphonique. Écrire des fonctions pour ajouter, supprimer, et rechercher des entrées.\n",
    "- **Fonctionnalités**:\n",
    "  - Ajouter\n",
    "  - Rechercher\n",
    "  - Supprimer\n",
    "\n",
    "## Exercice 3: Inversion de Dictionnaire\n",
    "- **Objectif**: Écrire une fonction qui inverse les clés et les valeurs d'un dictionnaire.\n",
    "- **Exemple**:\n",
    "  - Entrée: `{1: 'a', 2: 'b', 3: 'a'}`\n",
    "  - Sortie: `{'a': 3, 'b': 2}`\n",
    "\n",
    "## Exercice 4: Comptage de Mots dans un Texte\n",
    "- **Objectif**: Analyser un texte et retourner un dictionnaire avec le comptage des occurrences de chaque mot.\n",
    "- **Défi supplémentaire**: Ignorer la casse et la ponctuation.\n",
    "\n",
    "## Exercice 5: Grouper des Éléments par Caractéristique Commune\n",
    "- **Objectif**: Regrouper des éléments d'une liste de tuples dans un dictionnaire par caractéristique commune.\n",
    "- **Exemple**:\n",
    "  - Entrée: `[('Alice', 'A'), ('Bob', 'B'), ('Clara', 'A')]`\n",
    "  - Sortie: `{'A': ['Alice', 'Clara'], 'B': ['Bob']}`\n",
    "\n",
    "## Exercice 6: Implémentation d'une Cache pour la Suite de Syracuse\n",
    "\n",
    "### Objectif\n",
    "Utiliser un dictionnaire pour implémenter une cache qui mémorise les résultats intermédiaires de la suite de Syracuse. Cette technique, appelée memoization, permet d'améliorer les performances en évitant les calculs répétitifs.\n",
    "\n",
    "### Description de la Suite de Syracuse\n",
    "La suite de Syracuse, également connue sous le nom de problème 3x+1, est définie comme suit pour un nombre entier positif `n` :\n",
    "- Si `n` est pair, le prochain terme de la suite est `n / 2`.\n",
    "- Si `n` est impair, le prochain terme de la suite est `3n + 1`.\n",
    "La suite se termine lorsqu'elle atteint le nombre 1.\n",
    "\n",
    "### Tâches\n",
    "1. **Écrire une Fonction de Syracuse** : Créez une fonction `syracuse(n)` qui calcule la suite de Syracuse pour un nombre entier `n` donné. La fonction doit renvoyer la suite sous forme de liste, en commençant par le nombre initial `n` et en terminant par 1.\n",
    "   \n",
    "2. **Implémenter la Cache** : Modifiez la fonction `syracuse` pour qu'elle utilise un dictionnaire comme cache. Avant de calculer le terme suivant de la suite, la fonction doit vérifier si ce terme a déjà été calculé et stocké dans la cache. Si c'est le cas, elle doit utiliser la valeur de la cache au lieu de recalculer le terme.\n",
    "   \n",
    "3. **Tester la Performance** : Testez la performance de votre fonction avec et sans la cache pour un grand nombre (par exemple, 10000). Comparez le temps d'exécution dans les deux cas pour évaluer l'impact de la memoization.\n",
    "\n",
    "### Exemple\n",
    "- Entrée : `n = 7`\n",
    "- Sortie sans cache : `[7, 22, 11, 34, 17, 52, 26, 13, 40, 20, 10, 5, 16, 8, 4, 2, 1]`\n",
    "- Sortie avec cache : `[7, 22, 11, 34, 17, 52, 26, 13, 40, 20, 10, 5, 16, 8, 4, 2, 1]` (mais avec un temps d'exécution potentiellement réduit)\n",
    "\n",
    "## Conseils\n",
    "- Pensez à initialiser votre cache (qui peut être un simple dictionnaire) en dehors de la fonction de Syracuse.\n",
    "- Assurez-vous que votre cache stocke les résultats de chaque terme unique de la suite pour qu'ils puissent être réutilisés dans les calculs futurs.\n",
    "- N'oubliez pas de tester votre fonction avec plusieurs valeurs de `n` pour vous assurer que la cache fonctionne comme prévu.\n",
    "\n"
   ]
  },
  {
   "cell_type": "code",
   "execution_count": 8,
   "metadata": {},
   "outputs": [
    {
     "name": "stdout",
     "output_type": "stream",
     "text": [
      "{'b': 1, 'i': 1, 'e': 2, 'n': 2, 't': 2, 'o': 2, ' ': 2, 'l': 1, '!': 5}\n",
      "b\n",
      "i\n",
      "l\n",
      " Il y a 3 nombres uniques)\n"
     ]
    }
   ],
   "source": [
    "#programme 1\n",
    "phrase = 'bientot noel !!!!!'\n",
    "\n",
    "distribution = {}\n",
    "\n",
    "for car in phrase:\n",
    "    if car in distribution.keys():\n",
    "        distribution[car] +=1\n",
    "    else:\n",
    "        distribution[car] = 1\n",
    "print(distribution)\n",
    "\n",
    "nb_uniques = 0\n",
    "for cle in distribution: # cle prend tous les caractères rencontrés et stockés dans distribution\n",
    "    if distribution[cle] == 1:\n",
    "        print(cle)\n",
    "        nb_uniques += 1\n",
    "print(f\" Il y a {nb_uniques} nombres uniques\")"
   ]
  },
  {
   "cell_type": "markdown",
   "metadata": {},
   "source": [
    "## DS03\n",
    "1. Écrire une fonction qui retourne un dictionnaire des mots d’une chaine de caractères, et dont la valeur est le nombre d’apparitions.\n",
    "On pourra utiliser texte.split(), qui renvoie à une chaine de caractère la liste des mots qui la composent : \n",
    "`et de un`.split()        retourne [`et `, `de`, `un`]\n",
    "Exemple :  avec  phrase = `et de un et de deux et de trois`, la fonction apparition(phrase) renvoie\n",
    "{`et` : 3, `de` : 3, `un` : 1, `deux` : 1, `trois` :1 }\n",
    "2.  Afficher la liste des mots utilisés\n",
    "3. Afficher le mot le plus utilisé.\n"
   ]
  },
  {
   "cell_type": "code",
   "execution_count": null,
   "metadata": {},
   "outputs": [],
   "source": [
    "def ma_fonction(entre: str):\n",
    "    chaine = entre.split()\n",
    "    dico = {}\n",
    "    for i in chaine:\n",
    "        if i in dico:\n",
    "            dico[i] += 1\n",
    "        else:\n",
    "            dico[i] = 1\n",
    "    return dico\n",
    "\n",
    "print(ma_fonction(\"et de un et de deux et de trois\"))\n"
   ]
  },
  {
   "cell_type": "markdown",
   "metadata": {},
   "source": [
    "d\n",
    "\n",
    "d\n",
    " d\n",
    "\n",
    "d\n",
    " d\n",
    "\n",
    "d\n",
    " d\n",
    "\n",
    "d\n",
    " d\n",
    "\n",
    "d\n",
    " d\n",
    "\n",
    "d\n",
    " d\n",
    "\n",
    "d\n",
    " d\n",
    "\n",
    "d\n",
    " d\n",
    "\n",
    "d\n",
    " d\n",
    "\n",
    "d\n",
    " d\n",
    "\n",
    "d\n",
    " d\n",
    "\n",
    "d\n",
    " d\n",
    "\n",
    "d\n",
    " d\n",
    "\n",
    "d\n",
    " d\n",
    "\n",
    "d\n",
    " d\n",
    "\n",
    "d\n",
    " d\n",
    "\n",
    "d\n",
    " "
   ]
  },
  {
   "cell_type": "code",
   "execution_count": 35,
   "metadata": {},
   "outputs": [
    {
     "name": "stdout",
     "output_type": "stream",
     "text": [
      "{'et': 3, 'de': 3, 'un': 1, 'deux': 1, 'trois': 1}\n",
      "{'depeche': 1, 'de': 1, 'reviser': 1, \"c'est\": 1, 'deja': 1, 'lundi': 1}\n"
     ]
    }
   ],
   "source": [
    "sentence = \"et de un et de deux et de trois\"\n",
    "phrase_Anna = \"depeche de reviser c'est deja lundi\"\n",
    "def apparition(phrase):\n",
    "    dico = {}\n",
    "    for mot in phrase.split():\n",
    "        if mot not in dico:\n",
    "            dico[mot] = 1\n",
    "        else:\n",
    "            dico[mot] += 1\n",
    "    return dico\n",
    "\n",
    "print(apparition(sentence))\n",
    "print(apparition(phrase_Anna))\n"
   ]
  },
  {
   "cell_type": "code",
   "execution_count": null,
   "metadata": {},
   "outputs": [],
   "source": [
    "phrase = \"et de un et de deux et de trois\"\n",
    "\n",
    "# print(phrase)\n",
    "def apparition(phrase):\n",
    "    dico = {}\n",
    "    for mot in phrase.split():\n",
    "        if mot in dico:\n",
    "            dico[mot] += 1\n",
    "        else:\n",
    "            dico[mot] = 1\n",
    "    return dico\n",
    "dico = apparition(phrase)\n",
    "print(len(dico))\n",
    "\n",
    "def max_dict(dico):\n",
    "    cle_max = None\n",
    "    valeur_max = 0\n",
    "    for cle, valeur in dico.items():\n",
    "        if valeur > valeur_max:\n",
    "            valeur_max = valeur\n",
    "            cle_max = cle\n",
    "    return cle_max\n",
    "\n",
    "mot_frequent = max_dict(dico)\n",
    "print(\"Le mot le plus fréquent est \", mot_frequent, dico[mot_frequent])\n",
    "while mot_cible != \"fin\":\n",
    "    mot_cible = input(\"proposez votre mot à compter ! \")\n",
    "    print(f\"le mot '{mot_cible}' apparait {dico.get(mot_cible)} fois\" )\n"
   ]
  },
  {
   "cell_type": "code",
   "execution_count": 2,
   "metadata": {},
   "outputs": [
    {
     "name": "stdout",
     "output_type": "stream",
     "text": [
      "19139\n",
      "Le mot le plus fréquent est  de 4123\n"
     ]
    },
    {
     "name": "stdout",
     "output_type": "stream",
     "text": [
      "le mot 'Paris' apparait 81 fois\n",
      "le mot 'la' apparait 2368 fois\n",
      "le mot 'Paris.' apparait 30 fois\n",
      "le mot 'fin' apparait 11 fois\n"
     ]
    }
   ],
   "source": [
    "# phrase = \"et de un et de deux et de trois\"\n",
    "\n",
    "chemin_du_fichier = 'ndp.txt'  \n",
    "\n",
    "with open(chemin_du_fichier, 'r', encoding='utf-8') as fichier:\n",
    "    phrase = fichier.read()\n",
    "# print(phrase)\n",
    "def apparition(phrase):\n",
    "    dico = {}\n",
    "    for mot in phrase.split():\n",
    "        if mot in dico:\n",
    "            dico[mot] += 1\n",
    "        else:\n",
    "            dico[mot] = 1\n",
    "    return dico\n",
    "dico = apparition(phrase)\n",
    "print(len(dico))\n",
    "\n",
    "def max_dict(dico):\n",
    "    cle_max = None\n",
    "    valeur_max = -float('inf')\n",
    "    for cle, valeur in dico.items():\n",
    "        if valeur > valeur_max:\n",
    "            valeur_max = valeur\n",
    "            cle_max = cle\n",
    "    return cle_max\n",
    "\n",
    "mot_frequent = max_dict(dico)\n",
    "mot_cible = \"\"\n",
    "print(\"Le mot le plus fréquent est \", mot_frequent, dico[mot_frequent])\n",
    "while mot_cible != \"fin\":\n",
    "    mot_cible = input(\"proposez votre mot à compter ! \")\n",
    "    print(f\"le mot '{mot_cible}' apparait {dico.get(mot_cible)} fois\" )\n"
   ]
  }
 ],
 "metadata": {
  "kernelspec": {
   "display_name": "Python 3",
   "language": "python",
   "name": "python3"
  },
  "language_info": {
   "codemirror_mode": {
    "name": "ipython",
    "version": 3
   },
   "file_extension": ".py",
   "mimetype": "text/x-python",
   "name": "python",
   "nbconvert_exporter": "python",
   "pygments_lexer": "ipython3",
   "version": "3.11.5"
  },
  "orig_nbformat": 4
 },
 "nbformat": 4,
 "nbformat_minor": 2
}
